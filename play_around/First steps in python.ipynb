{
 "metadata": {
  "name": ""
 },
 "nbformat": 3,
 "nbformat_minor": 0,
 "worksheets": [
  {
   "cells": [
    {
     "cell_type": "code",
     "collapsed": false,
     "input": [
      "a=23\n",
      "str=type(a)\n",
      "b='hallo'\n",
      "str2=type(b)\n",
      "\n",
      "print str\n",
      "print str2"
     ],
     "language": "python",
     "metadata": {},
     "outputs": [
      {
       "output_type": "stream",
       "stream": "stdout",
       "text": [
        "<type 'int'>\n",
        "<type 'str'>\n"
       ]
      }
     ],
     "prompt_number": 4
    },
    {
     "cell_type": "code",
     "collapsed": false,
     "input": [
      "def quackandwalk(who):\n",
      "    print(who + ' quacks and walks away')\n",
      "    \n",
      "quackandwalk('Donald')\n"
     ],
     "language": "python",
     "metadata": {},
     "outputs": [
      {
       "output_type": "stream",
       "stream": "stdout",
       "text": [
        "Donald quacks and walks away\n"
       ]
      }
     ],
     "prompt_number": 13
    },
    {
     "cell_type": "code",
     "collapsed": false,
     "input": [
      "def calculate_something(x):\n",
      "    'Calculates x*x'\n",
      "    return x*x\n",
      "\n",
      "calculate_something(5)\n",
      "\n",
      "help(calculate_something)"
     ],
     "language": "python",
     "metadata": {},
     "outputs": [
      {
       "output_type": "stream",
       "stream": "stdout",
       "text": [
        "Help on function calculate_something in module __main__:\n",
        "\n",
        "calculate_something(x)\n",
        "    Calculates x*x\n",
        "\n"
       ]
      }
     ],
     "prompt_number": 17
    },
    {
     "cell_type": "code",
     "collapsed": false,
     "input": [
      "def add_scale(a,b,factor):\n",
      "    return (a+b)*factor\n",
      "\n",
      "a=add_scale(1,2,3)\n",
      "b=add_scale([1,2,3],[4,5,6],2)\n",
      "c=add_scale(' apple',' orange',2)\n",
      "\n",
      "print(a)\n",
      "print(b)\n",
      "print(c)"
     ],
     "language": "python",
     "metadata": {},
     "outputs": [
      {
       "output_type": "stream",
       "stream": "stdout",
       "text": [
        "9\n",
        "[1, 2, 3, 4, 5, 6, 1, 2, 3, 4, 5, 6]\n",
        " apple orange apple orange\n"
       ]
      }
     ],
     "prompt_number": 23
    },
    {
     "cell_type": "code",
     "collapsed": false,
     "input": [
      "a=[0,1,2,3,4,5,6,7,8,9]\n",
      "b=[2*n for n in a]\n",
      "c=[2*n for n in a if n % 2==1]\n",
      "d=[2*n for n in a if n % 2!=1]\n",
      "\n",
      "print(b)\n",
      "print(c)\n",
      "print(d)\n"
     ],
     "language": "python",
     "metadata": {},
     "outputs": [
      {
       "output_type": "stream",
       "stream": "stdout",
       "text": [
        "[0, 2, 4, 6, 8, 10, 12, 14, 16, 18]\n",
        "[2, 6, 10, 14, 18]\n",
        "[0, 4, 8, 12, 16]\n"
       ]
      }
     ],
     "prompt_number": 37
    },
    {
     "cell_type": "code",
     "collapsed": false,
     "input": [],
     "language": "python",
     "metadata": {},
     "outputs": []
    }
   ],
   "metadata": {}
  }
 ]
}