{
 "cells": [
  {
   "cell_type": "code",
   "execution_count": null,
   "metadata": {
    "collapsed": true
   },
   "outputs": [],
   "source": [
    "%matplotlib inline\n",
    "from yahoo_finance import Share\n",
    "import pandas as pd\n",
    "import datetime as dt\n",
    "from dateutil.relativedelta import relativedelta"
   ]
  },
  {
   "cell_type": "code",
   "execution_count": 3,
   "metadata": {
    "collapsed": true
   },
   "outputs": [],
   "source": [
    "\n",
    "#yahoo = Share('YHOO')\n",
    "yahoo = Share('YHO.F')"
   ]
  },
  {
   "cell_type": "code",
   "execution_count": 4,
   "metadata": {
    "collapsed": false
   },
   "outputs": [
    {
     "name": "stdout",
     "output_type": "stream",
     "text": [
      "37.47\n",
      "32.925\n"
     ]
    }
   ],
   "source": [
    "print(yahoo.get_open())"
   ]
  },
  {
   "cell_type": "code",
   "execution_count": 5,
   "metadata": {
    "collapsed": false
   },
   "outputs": [
    {
     "name": "stdout",
     "output_type": "stream",
     "text": [
      "2016-04-15\n",
      "2011-04-15\n"
     ]
    }
   ],
   "source": [
    "today = dt.datetime.today().date() # now would be the same\n",
    "years_ago = dt.datetime.now().date() - relativedelta(years=5)\n",
    "print(today)\n",
    "print(years_ago)"
   ]
  },
  {
   "cell_type": "code",
   "execution_count": 7,
   "metadata": {
    "collapsed": false
   },
   "outputs": [],
   "source": [
    "hist = yahoo.get_historical(str(years_ago), str(today))"
   ]
  },
  {
   "cell_type": "code",
   "execution_count": 13,
   "metadata": {
    "collapsed": false
   },
   "outputs": [
    {
     "name": "stdout",
     "output_type": "stream",
     "text": [
      "      Adj_Close      Close        Date       High        Low       Open  \\\n",
      "0     37.169998  37.169998  2016-04-14      37.50  36.849998  37.470001   \n",
      "1     37.310001  37.310001  2016-04-13  37.349998  36.900002  36.939999   \n",
      "2         36.66      36.66  2016-04-12  36.830002  36.279999  36.650002   \n",
      "3         36.48      36.48  2016-04-11  36.849998      36.32  36.380001   \n",
      "4         36.07      36.07  2016-04-08  36.919998  35.619999  36.849998   \n",
      "5     36.169998  36.169998  2016-04-07      37.25  35.720001  35.860001   \n",
      "6         36.66      36.66  2016-04-06      37.00  36.310001  36.400002   \n",
      "7         36.41      36.41  2016-04-05  36.919998  36.220001  36.700001   \n",
      "8         37.02      37.02  2016-04-04      37.50  36.540001  36.549999   \n",
      "9         36.48      36.48  2016-04-01  36.880001  36.310001  36.540001   \n",
      "10    36.810001  36.810001  2016-03-31      37.02      36.50  36.509998   \n",
      "11    36.560001  36.560001  2016-03-30  37.279999  36.439999  36.610001   \n",
      "12        36.32      36.32  2016-03-29      36.43  35.009998  35.049999   \n",
      "13        35.23      35.23  2016-03-28  35.450001  34.619999  35.389999   \n",
      "14    34.860001  34.860001  2016-03-24  34.869999      33.93  34.450001   \n",
      "15    34.799999  34.799999  2016-03-23  35.700001  34.709999      35.43   \n",
      "16        35.41      35.41  2016-03-22  35.610001      34.68      34.68   \n",
      "17    35.470001  35.470001  2016-03-21  36.099998      35.00      35.00   \n",
      "18    35.169998  35.169998  2016-03-18  35.209999  34.380001  34.540001   \n",
      "19    34.279999  34.279999  2016-03-17  34.549999  33.869999  33.880001   \n",
      "20    34.009998  34.009998  2016-03-16  34.080002      33.00  33.029999   \n",
      "21    33.259998  33.259998  2016-03-15  33.459999  33.110001      33.32   \n",
      "22    33.580002  33.580002  2016-03-14      34.09  33.509998      33.75   \n",
      "23    33.810001  33.810001  2016-03-11  33.860001      32.84  33.290001   \n",
      "24        32.82      32.82  2016-03-10  33.599998      32.09      33.59   \n",
      "25    33.509998  33.509998  2016-03-09      33.52  32.779999      33.09   \n",
      "26        32.93      32.93  2016-03-08      33.82      32.84      33.66   \n",
      "27    33.959999  33.959999  2016-03-07  34.380001      33.59      33.68   \n",
      "28    33.860001  33.860001  2016-03-04      33.93  32.759998      32.91   \n",
      "29    32.880001  32.880001  2016-03-03  33.209999  32.419998  32.709999   \n",
      "...         ...        ...         ...        ...        ...        ...   \n",
      "1227      16.02      16.02  2011-05-27  16.190001      15.95  16.030001   \n",
      "1228      15.98      15.98  2011-05-26  16.219999      15.88      16.18   \n",
      "1229      16.15      16.15  2011-05-25      16.99      16.10  16.190001   \n",
      "1230  16.139999  16.139999  2011-05-24      16.41  16.049999  16.110001   \n",
      "1231  16.059999  16.059999  2011-05-23      16.17      16.00  16.049999   \n",
      "1232  16.299999  16.299999  2011-05-20  16.440001      16.15      16.32   \n",
      "1233      16.35      16.35  2011-05-19      16.49  16.040001  16.049999   \n",
      "1234      15.96      15.96  2011-05-18      16.16      15.75      16.07   \n",
      "1235      16.00      16.00  2011-05-17      16.07      15.73      15.88   \n",
      "1236      15.81      15.81  2011-05-16  16.690001      15.63      16.68   \n",
      "1237  16.549999  16.549999  2011-05-13      16.84      15.96  16.139999   \n",
      "1238      17.17      17.17  2011-05-12  17.809999      16.93  17.120001   \n",
      "1239  17.200001  17.200001  2011-05-11  18.610001      16.74  18.450001   \n",
      "1240  18.549999  18.549999  2011-05-10  18.700001      18.42      18.67   \n",
      "1241  18.559999  18.559999  2011-05-09      18.84  18.540001      18.60   \n",
      "1242      18.65      18.65  2011-05-06  18.799999  18.379999      18.59   \n",
      "1243      18.43      18.43  2011-05-05  18.559999  18.049999  18.120001   \n",
      "1244  18.200001  18.200001  2011-05-04  18.379999  17.959999      17.99   \n",
      "1245      17.92      17.92  2011-05-03  18.639999  17.879999      18.23   \n",
      "1246  18.139999  18.139999  2011-05-02      18.35      17.57  17.790001   \n",
      "1247  17.700001  17.700001  2011-04-29      17.77  17.360001  17.459999   \n",
      "1248      17.51      17.51  2011-04-28  17.530001      17.17  17.219999   \n",
      "1249      17.26      17.26  2011-04-27      17.43      17.18  17.299999   \n",
      "1250  17.280001  17.280001  2011-04-26  17.370001      17.02  17.110001   \n",
      "1251  17.110001  17.110001  2011-04-25  17.309999      16.90      17.01   \n",
      "1252      16.85      16.85  2011-04-21  16.940001      16.74      16.93   \n",
      "1253  16.870001  16.870001  2011-04-20      17.23      16.59  16.700001   \n",
      "1254  16.120001  16.120001  2011-04-19  16.360001      16.08  16.209999   \n",
      "1255      16.35      16.35  2011-04-18  16.440001  16.059999      16.35   \n",
      "1256  16.620001  16.620001  2011-04-15  16.780001  16.540001  16.639999   \n",
      "\n",
      "     Symbol     Volume  \n",
      "0      YHOO   16609000  \n",
      "1      YHOO   17158700  \n",
      "2      YHOO   10439400  \n",
      "3      YHOO   13709600  \n",
      "4      YHOO   20251100  \n",
      "5      YHOO   38653800  \n",
      "6      YHOO   19418600  \n",
      "7      YHOO   12439200  \n",
      "8      YHOO   20210800  \n",
      "9      YHOO   13650400  \n",
      "10     YHOO   18666200  \n",
      "11     YHOO   19836500  \n",
      "12     YHOO   23166500  \n",
      "13     YHOO   12976800  \n",
      "14     YHOO   14101500  \n",
      "15     YHOO   12192600  \n",
      "16     YHOO   11272300  \n",
      "17     YHOO   13279400  \n",
      "18     YHOO   20490800  \n",
      "19     YHOO    9334100  \n",
      "20     YHOO   10975700  \n",
      "21     YHOO   10660800  \n",
      "22     YHOO    7960300  \n",
      "23     YHOO   11682700  \n",
      "24     YHOO   19452000  \n",
      "25     YHOO   12647100  \n",
      "26     YHOO   21007300  \n",
      "27     YHOO   22924000  \n",
      "28     YHOO   22915200  \n",
      "29     YHOO   11355600  \n",
      "...     ...        ...  \n",
      "1227   YHOO   20091200  \n",
      "1228   YHOO   23999500  \n",
      "1229   YHOO   34172600  \n",
      "1230   YHOO   23150600  \n",
      "1231   YHOO   19300000  \n",
      "1232   YHOO   23582700  \n",
      "1233   YHOO   40356400  \n",
      "1234   YHOO   25880200  \n",
      "1235   YHOO   31205200  \n",
      "1236   YHOO   62082200  \n",
      "1237   YHOO  120057600  \n",
      "1238   YHOO   53000000  \n",
      "1239   YHOO  131200000  \n",
      "1240   YHOO   18475100  \n",
      "1241   YHOO   15595600  \n",
      "1242   YHOO   29690800  \n",
      "1243   YHOO   30800000  \n",
      "1244   YHOO   23584900  \n",
      "1245   YHOO   32600000  \n",
      "1246   YHOO   44030600  \n",
      "1247   YHOO   30800000  \n",
      "1248   YHOO   14400000  \n",
      "1249   YHOO   16642400  \n",
      "1250   YHOO   20000000  \n",
      "1251   YHOO   17771500  \n",
      "1252   YHOO   13985200  \n",
      "1253   YHOO   34310400  \n",
      "1254   YHOO   31547400  \n",
      "1255   YHOO   21935700  \n",
      "1256   YHOO   14756500  \n",
      "\n",
      "[1257 rows x 8 columns]\n"
     ]
    }
   ],
   "source": [
    "df_yahoo = pd.DataFrame(hist)\n",
    "print (df_yahoo)"
   ]
  },
  {
   "cell_type": "code",
   "execution_count": 10,
   "metadata": {
    "collapsed": false
   },
   "outputs": [],
   "source": [
    "#df_yahoo.index = pd.to_datetime(df_yahoo.pop('Date'))\n",
    "#df_yahoo.head()"
   ]
  },
  {
   "cell_type": "code",
   "execution_count": 19,
   "metadata": {
    "collapsed": true
   },
   "outputs": [
    {
     "data": {
      "text/plain": [
       "<matplotlib.axes._subplots.AxesSubplot at 0x1038de8d0>"
      ]
     },
     "execution_count": 19,
     "metadata": {},
     "output_type": "execute_result"
    },
    {
     "data": {
      "image/png": "[encoded data removed]",
      "text/plain": [
       "<matplotlib.figure.Figure at 0x112aae6d8>"
      ]
     },
     "metadata": {},
     "output_type": "display_data"
    }
   ],
   "source": [
    "\n",
    "df_yahoo['High'] = df_yahoo['High'].astype('float')\n",
    "df_yahoo['Volume'] = df_yahoo['Volume'].astype('int')\n",
    "df_yahoo['Date'] = pd.to_datetime(df_yahoo['Date'])\n",
    "#df_yahoo = pd.to_numeric(df_yahoo, errors='coerce')\n",
    "df_yahoo.dtypes\n",
    "df_yahoo.plot(x='Date', y='High')\n",
    "#df_yahoo.plot(x='Date', y='Volume')"
   ]
  },
  {
   "cell_type": "code",
   "execution_count": 47,
   "metadata": {
    "collapsed": false
   },
   "outputs": [
    {
     "name": "stdout",
     "output_type": "stream",
     "text": [
      "DatetimeIndex(['2010-01-04', '2010-01-05', '2010-01-06', '2010-01-07',\n",
      "               '2010-01-08', '2010-01-11', '2010-01-12', '2010-01-13',\n",
      "               '2010-01-14', '2010-01-15',\n",
      "               ...\n",
      "               '2016-04-01', '2016-04-04', '2016-04-05', '2016-04-06',\n",
      "               '2016-04-07', '2016-04-08', '2016-04-11', '2016-04-12',\n",
      "               '2016-04-13', '2016-04-14'],\n",
      "              dtype='datetime64[ns]', name='Date', length=1634, freq=None)\n"
     ]
    },
    {
     "data": {
      "text/plain": [
       "<matplotlib.axes._subplots.AxesSubplot at 0x1179b19e8>"
      ]
     },
     "execution_count": 47,
     "metadata": {},
     "output_type": "execute_result"
    },
    {
     "data": {
      "image/png": "[encoded data removed]",
      "text/plain": [
       "<matplotlib.figure.Figure at 0x117b0fc18>"
      ]
     },
     "metadata": {},
     "output_type": "display_data"
    }
   ],
   "source": [
    "\n",
    "\n",
    "#import pandas.io.data as web\n",
    "import pandas as pd\n",
    "import pandas_datareader.data as web\n",
    "\n",
    "all_data = {}\n",
    "for ticker in ['AAPL', 'IBM', 'MSFT', 'GOOG', 'NTT.F']:\n",
    "    all_data[ticker] = web.get_data_yahoo(ticker)\n",
    "    \n",
    "price = pd.DataFrame({tic: data['Adj Close']\n",
    "                    for tic, data in all_data.items()})\n",
    "                \n",
    "\n",
    "    \n",
    "price.plot()"
   ]
  },
  {
   "cell_type": "code",
   "execution_count": 48,
   "metadata": {
    "collapsed": true
   },
   "outputs": [],
   "source": [
    "df_norm = (price - price.mean()) / (price.max() - price.min())"
   ]
  },
  {
   "cell_type": "code",
   "execution_count": 64,
   "metadata": {
    "collapsed": false
   },
   "outputs": [
    {
     "name": "stdout",
     "output_type": "stream",
     "text": [
      "AAPL      25.407921\n",
      "GOOG     217.817563\n",
      "IBM      106.622063\n",
      "MSFT      19.678680\n",
      "NTT.F     14.445000\n",
      "dtype: float64\n",
      "AAPL     130.671320\n",
      "GOOG     776.599976\n",
      "IBM      198.948796\n",
      "MSFT      56.146870\n",
      "NTT.F     40.764000\n",
      "dtype: float64\n",
      "AAPL      73.101462\n",
      "GOOG     426.968541\n",
      "IBM      157.617146\n",
      "MSFT      32.501183\n",
      "NTT.F     21.134142\n",
      "dtype: float64\n"
     ]
    }
   ],
   "source": [
    "norm_ntt = (price['NTT.F'] - price['NTT.F'].mean()) / (price['NTT.F'].max() - price.min() ) \n",
    "print((price['NTT.F'].max() - price.min() ) "
   ]
  },
  {
   "cell_type": "code",
   "execution_count": null,
   "metadata": {
    "collapsed": true
   },
   "outputs": [],
   "source": []
  }
 ],
 "metadata": {
  "kernelspec": {
   "display_name": "Python 3",
   "language": "python",
   "name": "python3"
  },
  "language_info": {
   "codemirror_mode": {
    "name": "ipython",
    "version": 3
   },
   "file_extension": ".py",
   "mimetype": "text/x-python",
   "name": "python",
   "nbconvert_exporter": "python",
   "pygments_lexer": "ipython3",
   "version": "3.5.1"
  }
 },
 "nbformat": 4,
 "nbformat_minor": 0
}
